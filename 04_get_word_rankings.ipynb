{
 "cells": [
  {
   "cell_type": "code",
   "execution_count": 2,
   "id": "8e8f3558",
   "metadata": {},
   "outputs": [],
   "source": [
    "# Module Imports\n",
    "import dask.dataframe as dd\n",
    "from dask.distributed import Client, LocalCluster\n",
    "import matplotlib.pyplot as plt\n",
    "import seaborn as sns\n",
    "import pandas as pd"
   ]
  },
  {
   "cell_type": "code",
   "execution_count": 3,
   "id": "d68c464b",
   "metadata": {},
   "outputs": [
    {
     "name": "stderr",
     "output_type": "stream",
     "text": [
      "C:\\Users\\gv9\\AppData\\Local\\pypoetry\\Cache\\virtualenvs\\portfolio-oVyD_NMl-py3.9\\lib\\site-packages\\distributed\\node.py:182: UserWarning: Port 8787 is already in use.\n",
      "Perhaps you already have a cluster running?\n",
      "Hosting the HTTP server on port 59534 instead\n",
      "  warnings.warn(\n",
      "2023-05-19 10:45:52,767 - tornado.application - ERROR - Exception in callback functools.partial(<function TCPServer._handle_connection.<locals>.<lambda> at 0x000002F5CEC36AF0>, <Task finished name='Task-2061' coro=<BaseTCPListener._handle_stream() done, defined at C:\\Users\\gv9\\AppData\\Local\\pypoetry\\Cache\\virtualenvs\\portfolio-oVyD_NMl-py3.9\\lib\\site-packages\\distributed\\comm\\tcp.py:605> exception=ValueError('invalid operation on non-started TCPListener')>)\n",
      "Traceback (most recent call last):\n",
      "  File \"C:\\Users\\gv9\\AppData\\Local\\pypoetry\\Cache\\virtualenvs\\portfolio-oVyD_NMl-py3.9\\lib\\site-packages\\tornado\\ioloop.py\", line 738, in _run_callback\n",
      "    ret = callback()\n",
      "  File \"C:\\Users\\gv9\\AppData\\Local\\pypoetry\\Cache\\virtualenvs\\portfolio-oVyD_NMl-py3.9\\lib\\site-packages\\tornado\\tcpserver.py\", line 387, in <lambda>\n",
      "    gen.convert_yielded(future), lambda f: f.result()\n",
      "  File \"C:\\Users\\gv9\\AppData\\Local\\pypoetry\\Cache\\virtualenvs\\portfolio-oVyD_NMl-py3.9\\lib\\site-packages\\distributed\\comm\\tcp.py\", line 611, in _handle_stream\n",
      "    logger.debug(\"Incoming connection from %r to %r\", address, self.contact_address)\n",
      "  File \"C:\\Users\\gv9\\AppData\\Local\\pypoetry\\Cache\\virtualenvs\\portfolio-oVyD_NMl-py3.9\\lib\\site-packages\\distributed\\comm\\tcp.py\", line 647, in contact_address\n",
      "    host, port = self.get_host_port()\n",
      "  File \"C:\\Users\\gv9\\AppData\\Local\\pypoetry\\Cache\\virtualenvs\\portfolio-oVyD_NMl-py3.9\\lib\\site-packages\\distributed\\comm\\tcp.py\", line 628, in get_host_port\n",
      "    self._check_started()\n",
      "  File \"C:\\Users\\gv9\\AppData\\Local\\pypoetry\\Cache\\virtualenvs\\portfolio-oVyD_NMl-py3.9\\lib\\site-packages\\distributed\\comm\\tcp.py\", line 603, in _check_started\n",
      "    raise ValueError(\"invalid operation on non-started TCPListener\")\n",
      "ValueError: invalid operation on non-started TCPListener\n",
      "2023-05-19 10:45:55,955 - distributed.nanny - WARNING - Worker process still alive after 3.1999966430664064 seconds, killing\n",
      "2023-05-19 10:45:55,955 - distributed.nanny - WARNING - Worker process still alive after 3.1999980163574224 seconds, killing\n",
      "2023-05-19 10:45:55,955 - distributed.nanny - WARNING - Worker process still alive after 3.1999983215332035 seconds, killing\n",
      "2023-05-19 10:45:55,955 - distributed.nanny - WARNING - Worker process still alive after 3.1999983215332035 seconds, killing\n",
      "2023-05-19 10:45:55,963 - distributed.nanny - WARNING - Worker process still alive after 3.1999983215332035 seconds, killing\n",
      "2023-05-19 10:45:55,963 - distributed.nanny - WARNING - Worker process still alive after 3.199998474121094 seconds, killing\n",
      "2023-05-19 10:45:55,963 - distributed.nanny - WARNING - Worker process still alive after 3.1999986267089846 seconds, killing\n"
     ]
    }
   ],
   "source": [
    "cluster = LocalCluster() \n",
    "cluster.scale(8) \n",
    "\n",
    "# Sets the number of workers \n",
    "cluster.adapt(minimum=1, maximum=8) \n",
    "\n",
    "# Allows the cluster to auto scale to 10 when tasks are computed \n",
    "client = Client(cluster)"
   ]
  },
  {
   "cell_type": "code",
   "execution_count": 4,
   "id": "4b1d36ff",
   "metadata": {},
   "outputs": [
    {
     "data": {
      "text/html": [
       "<div>\n",
       "<style scoped>\n",
       "    .dataframe tbody tr th:only-of-type {\n",
       "        vertical-align: middle;\n",
       "    }\n",
       "\n",
       "    .dataframe tbody tr th {\n",
       "        vertical-align: top;\n",
       "    }\n",
       "\n",
       "    .dataframe thead th {\n",
       "        text-align: right;\n",
       "    }\n",
       "</style>\n",
       "<table border=\"1\" class=\"dataframe\">\n",
       "  <thead>\n",
       "    <tr style=\"text-align: right;\">\n",
       "      <th></th>\n",
       "      <th>id</th>\n",
       "      <th>title</th>\n",
       "      <th>comments</th>\n",
       "      <th>journal-ref_original</th>\n",
       "      <th>categories_original</th>\n",
       "      <th>journal-ref_cleaned</th>\n",
       "      <th>first_category</th>\n",
       "      <th>category</th>\n",
       "      <th>sub_category</th>\n",
       "      <th>feild</th>\n",
       "    </tr>\n",
       "  </thead>\n",
       "  <tbody>\n",
       "    <tr>\n",
       "      <th>0</th>\n",
       "      <td>0704.0001</td>\n",
       "      <td>calculation of prompt diphoton production cros...</td>\n",
       "      <td>37 pages, 15 figures; published version</td>\n",
       "      <td>phys.rev.d76:013009,2007</td>\n",
       "      <td>hep-ph</td>\n",
       "      <td>physics.review</td>\n",
       "      <td>hep-ph</td>\n",
       "      <td>hep-ph</td>\n",
       "      <td>NaN</td>\n",
       "      <td>physics</td>\n",
       "    </tr>\n",
       "    <tr>\n",
       "      <th>1</th>\n",
       "      <td>0704.0002</td>\n",
       "      <td>sparsity-certifying graph decompositions</td>\n",
       "      <td>to appear in graphs and combinatorics</td>\n",
       "      <td>NaN</td>\n",
       "      <td>math.co cs.cg</td>\n",
       "      <td>NaN</td>\n",
       "      <td>math.co</td>\n",
       "      <td>math</td>\n",
       "      <td>co</td>\n",
       "      <td>math</td>\n",
       "    </tr>\n",
       "    <tr>\n",
       "      <th>2</th>\n",
       "      <td>0704.0003</td>\n",
       "      <td>the evolution of the earth-moon system based o...</td>\n",
       "      <td>23 pages, 3 figures</td>\n",
       "      <td>NaN</td>\n",
       "      <td>physics.gen-ph</td>\n",
       "      <td>NaN</td>\n",
       "      <td>physics.gen-ph</td>\n",
       "      <td>physics</td>\n",
       "      <td>gen-ph</td>\n",
       "      <td>physics</td>\n",
       "    </tr>\n",
       "    <tr>\n",
       "      <th>3</th>\n",
       "      <td>0704.0004</td>\n",
       "      <td>a determinant of stirling cycle numbers counts...</td>\n",
       "      <td>11 pages</td>\n",
       "      <td>NaN</td>\n",
       "      <td>math.co</td>\n",
       "      <td>NaN</td>\n",
       "      <td>math.co</td>\n",
       "      <td>math</td>\n",
       "      <td>co</td>\n",
       "      <td>math</td>\n",
       "    </tr>\n",
       "    <tr>\n",
       "      <th>4</th>\n",
       "      <td>0704.0006</td>\n",
       "      <td>bosonic characters of atomic cooper pairs acro...</td>\n",
       "      <td>6 pages, 4 figures, accepted by pra</td>\n",
       "      <td>NaN</td>\n",
       "      <td>cond-mat.mes-hall</td>\n",
       "      <td>NaN</td>\n",
       "      <td>cond-mat.mes-hall</td>\n",
       "      <td>cond-mat</td>\n",
       "      <td>mes-hall</td>\n",
       "      <td>physics</td>\n",
       "    </tr>\n",
       "  </tbody>\n",
       "</table>\n",
       "</div>"
      ],
      "text/plain": [
       "          id                                              title   \n",
       "0  0704.0001  calculation of prompt diphoton production cros...  \\\n",
       "1  0704.0002           sparsity-certifying graph decompositions   \n",
       "2  0704.0003  the evolution of the earth-moon system based o...   \n",
       "3  0704.0004  a determinant of stirling cycle numbers counts...   \n",
       "4  0704.0006  bosonic characters of atomic cooper pairs acro...   \n",
       "\n",
       "                                  comments      journal-ref_original   \n",
       "0  37 pages, 15 figures; published version  phys.rev.d76:013009,2007  \\\n",
       "1    to appear in graphs and combinatorics                       NaN   \n",
       "2                      23 pages, 3 figures                       NaN   \n",
       "3                                 11 pages                       NaN   \n",
       "4      6 pages, 4 figures, accepted by pra                       NaN   \n",
       "\n",
       "  categories_original journal-ref_cleaned     first_category  category   \n",
       "0              hep-ph      physics.review             hep-ph    hep-ph  \\\n",
       "1       math.co cs.cg                 NaN            math.co      math   \n",
       "2      physics.gen-ph                 NaN     physics.gen-ph   physics   \n",
       "3             math.co                 NaN            math.co      math   \n",
       "4   cond-mat.mes-hall                 NaN  cond-mat.mes-hall  cond-mat   \n",
       "\n",
       "  sub_category    feild  \n",
       "0          NaN  physics  \n",
       "1           co     math  \n",
       "2       gen-ph  physics  \n",
       "3           co     math  \n",
       "4     mes-hall  physics  "
      ]
     },
     "execution_count": 4,
     "metadata": {},
     "output_type": "execute_result"
    }
   ],
   "source": [
    "defined_dtypes = {'id': str, 'title': str, 'comments':  str, 'journal-ref':  str, 'id':  str}\n",
    "\n",
    "df = dd.read_csv('without_covid_cleaned.csv', blocksize=\"256 MiB\", dtype=defined_dtypes)\n",
    "df.head(5)"
   ]
  },
  {
   "cell_type": "code",
   "execution_count": 5,
   "id": "a69c03a0",
   "metadata": {},
   "outputs": [],
   "source": [
    "titles = df['title'].compute()"
   ]
  },
  {
   "cell_type": "code",
   "execution_count": 6,
   "id": "01286fde",
   "metadata": {},
   "outputs": [
    {
     "name": "stdout",
     "output_type": "stream",
     "text": [
      "calculation of prompt diphoton production cross sections at tevatron and lhc energies\n",
      "sparsitycertifying graph decompositions\n",
      "the evolution of the earthmoon system based on the dark matter field fluid model\n",
      "a determinant of stirling cycle numbers counts unlabeled acyclic singlesource automata\n",
      "bosonic characters of atomic cooper pairs across resonance\n"
     ]
    }
   ],
   "source": [
    "titles = titles.str.lower()\n",
    "\n",
    "titles = titles.str.replace('[^A-Za-z\\s]', '', regex=True)\n",
    "titles = titles.str.replace('  ', ' ', regex=True)\n",
    "\n",
    "for i in range(5):\n",
    "    print(titles[i])"
   ]
  },
  {
   "cell_type": "code",
   "execution_count": 10,
   "id": "ed9c14d0",
   "metadata": {},
   "outputs": [
    {
     "data": {
      "text/plain": [
       "['i', 'me', 'my', 'myself', 'we', 'our', 'ours', 'ourselves', 'you', \"you're\"]"
      ]
     },
     "execution_count": 10,
     "metadata": {},
     "output_type": "execute_result"
    }
   ],
   "source": [
    "from nltk.corpus import stopwords\n",
    "\n",
    "# get enlish stop words\n",
    "english_stopwords = stopwords.words('english')\n",
    "\n",
    "# remove any non alphabetic, non whitespace characters\n",
    "my_english_stopwords = [word.replace('[^A-Za-z\\s]', '') for word in english_stopwords]\n",
    "\n",
    "my_english_stopwords[:10]"
   ]
  },
  {
   "cell_type": "code",
   "execution_count": 11,
   "id": "a86832b5",
   "metadata": {},
   "outputs": [
    {
     "name": "stdout",
     "output_type": "stream",
     "text": [
      "0    calculation\n",
      "0             of\n",
      "0         prompt\n",
      "0       diphoton\n",
      "0     production\n",
      "0          cross\n",
      "0       sections\n",
      "0             at\n",
      "0       tevatron\n",
      "0            and\n",
      "Name: title, dtype: object\n"
     ]
    }
   ],
   "source": [
    "# Make a list with each word as an item\n",
    "titles_as_lists = titles.str.split()\n",
    "# Make each word its own item in a series\n",
    "individual_words = titles_as_lists.explode()\n",
    "\n",
    "print(individual_words.head(10))"
   ]
  },
  {
   "cell_type": "code",
   "execution_count": 14,
   "id": "2e67bb03",
   "metadata": {},
   "outputs": [
    {
     "data": {
      "text/plain": [
       "0      calcul\n",
       "0          of\n",
       "0      prompt\n",
       "0    diphoton\n",
       "0     product\n",
       "0       cross\n",
       "0     section\n",
       "0          at\n",
       "0    tevatron\n",
       "0         and\n",
       "Name: title, dtype: object"
      ]
     },
     "execution_count": 14,
     "metadata": {},
     "output_type": "execute_result"
    }
   ],
   "source": [
    "import nltk\n",
    "from nltk.stem import PorterStemmer\n",
    "\n",
    "stemmer = PorterStemmer()\n",
    "\n",
    "# Applying lemmatisation to series\n",
    "individual_word_stems = individual_words.apply(lambda word: stemmer.stem(word))\n",
    "\n",
    "individual_word_stems.head(10)"
   ]
  },
  {
   "cell_type": "code",
   "execution_count": 24,
   "id": "2de812d4",
   "metadata": {},
   "outputs": [
    {
     "name": "stdout",
     "output_type": "stream",
     "text": [
      "model : model\n",
      "modelling : model\n",
      "modelled : model\n",
      "models : model\n"
     ]
    }
   ],
   "source": [
    "import nltk\n",
    "from nltk.stem import PorterStemmer\n",
    "\n",
    "stemmer = PorterStemmer()\n",
    "\n",
    "for i in ['model', 'modelling', 'modelled', 'models']:\n",
    "    print(i, ':', stemmer.stem(i))"
   ]
  },
  {
   "cell_type": "code",
   "execution_count": 23,
   "id": "667b895a",
   "metadata": {},
   "outputs": [
    {
     "data": {
      "text/plain": [
       "title\n",
       "of      898989\n",
       "the     689104\n",
       "and     540033\n",
       "in      537331\n",
       "a       346170\n",
       "for     337990\n",
       "on      217099\n",
       "with    196194\n",
       "to      121485\n",
       "from     98387\n",
       "Name: count, dtype: int64"
      ]
     },
     "execution_count": 23,
     "metadata": {},
     "output_type": "execute_result"
    }
   ],
   "source": [
    "individual_words.value_counts().head(10)"
   ]
  },
  {
   "cell_type": "code",
   "execution_count": 19,
   "id": "0beb3d64",
   "metadata": {},
   "outputs": [],
   "source": [
    "# Caluclate frequency of each word in series\n",
    "value_counts = individual_word_stems.value_counts()"
   ]
  },
  {
   "cell_type": "markdown",
   "id": "9dfcec8d",
   "metadata": {},
   "source": [
    "**Word Rankings before stop words have been removed**\n",
    "- of      899003\n",
    "- the     689110\n",
    "- and     540041\n",
    "- in      537339\n",
    "- a       346181\n",
    "- for     337998\n",
    "- on      217102\n",
    "- with    196198\n",
    "- to      121488\n",
    "- from     98387"
   ]
  },
  {
   "cell_type": "code",
   "execution_count": 25,
   "id": "6a9e1d0b",
   "metadata": {},
   "outputs": [
    {
     "data": {
      "text/plain": [
       "title\n",
       "model      130451\n",
       "quantum     98291\n",
       "system      72570\n",
       "theori      64817\n",
       "field       58532\n",
       "effect      57007\n",
       "gener       56889\n",
       "dynam       54976\n",
       "use         53465\n",
       "network     52084\n",
       "Name: count, dtype: int64"
      ]
     },
     "execution_count": 25,
     "metadata": {},
     "output_type": "execute_result"
    }
   ],
   "source": [
    "value_counts_no_stopwords = value_counts.drop(index=my_english_stopwords, errors='ignore')\n",
    "value_counts_no_stopwords.head(10)"
   ]
  },
  {
   "cell_type": "markdown",
   "id": "c4c86dfc",
   "metadata": {},
   "source": [
    "Before lemmitisation\n",
    "\n",
    "quantum     98155\n",
    "\n",
    "model       74674\n",
    "\n",
    "theory      52267\n",
    "\n",
    "using       50263\n",
    "\n",
    "systems     46438\n",
    "\n",
    "learning    42634\n",
    "\n",
    "models      39951\n",
    "\n",
    "field       39216\n",
    "\n",
    "analysis    34508\n",
    "\n",
    "magnetic    33020\n"
   ]
  },
  {
   "cell_type": "code",
   "execution_count": 26,
   "id": "9e98036d",
   "metadata": {},
   "outputs": [
    {
     "data": {
      "text/html": [
       "<div>\n",
       "<style scoped>\n",
       "    .dataframe tbody tr th:only-of-type {\n",
       "        vertical-align: middle;\n",
       "    }\n",
       "\n",
       "    .dataframe tbody tr th {\n",
       "        vertical-align: top;\n",
       "    }\n",
       "\n",
       "    .dataframe thead th {\n",
       "        text-align: right;\n",
       "    }\n",
       "</style>\n",
       "<table border=\"1\" class=\"dataframe\">\n",
       "  <thead>\n",
       "    <tr style=\"text-align: right;\">\n",
       "      <th></th>\n",
       "      <th>count</th>\n",
       "      <th>rank</th>\n",
       "    </tr>\n",
       "    <tr>\n",
       "      <th>title</th>\n",
       "      <th></th>\n",
       "      <th></th>\n",
       "    </tr>\n",
       "  </thead>\n",
       "  <tbody>\n",
       "    <tr>\n",
       "      <th>model</th>\n",
       "      <td>130451</td>\n",
       "      <td>1.0</td>\n",
       "    </tr>\n",
       "    <tr>\n",
       "      <th>quantum</th>\n",
       "      <td>98291</td>\n",
       "      <td>2.0</td>\n",
       "    </tr>\n",
       "    <tr>\n",
       "      <th>system</th>\n",
       "      <td>72570</td>\n",
       "      <td>3.0</td>\n",
       "    </tr>\n",
       "    <tr>\n",
       "      <th>theori</th>\n",
       "      <td>64817</td>\n",
       "      <td>4.0</td>\n",
       "    </tr>\n",
       "    <tr>\n",
       "      <th>field</th>\n",
       "      <td>58532</td>\n",
       "      <td>5.0</td>\n",
       "    </tr>\n",
       "    <tr>\n",
       "      <th>effect</th>\n",
       "      <td>57007</td>\n",
       "      <td>6.0</td>\n",
       "    </tr>\n",
       "    <tr>\n",
       "      <th>gener</th>\n",
       "      <td>56889</td>\n",
       "      <td>7.0</td>\n",
       "    </tr>\n",
       "    <tr>\n",
       "      <th>dynam</th>\n",
       "      <td>54976</td>\n",
       "      <td>8.0</td>\n",
       "    </tr>\n",
       "    <tr>\n",
       "      <th>use</th>\n",
       "      <td>53465</td>\n",
       "      <td>9.0</td>\n",
       "    </tr>\n",
       "    <tr>\n",
       "      <th>network</th>\n",
       "      <td>52084</td>\n",
       "      <td>10.0</td>\n",
       "    </tr>\n",
       "  </tbody>\n",
       "</table>\n",
       "</div>"
      ],
      "text/plain": [
       "          count  rank\n",
       "title                \n",
       "model    130451   1.0\n",
       "quantum   98291   2.0\n",
       "system    72570   3.0\n",
       "theori    64817   4.0\n",
       "field     58532   5.0\n",
       "effect    57007   6.0\n",
       "gener     56889   7.0\n",
       "dynam     54976   8.0\n",
       "use       53465   9.0\n",
       "network   52084  10.0"
      ]
     },
     "execution_count": 26,
     "metadata": {},
     "output_type": "execute_result"
    }
   ],
   "source": [
    "final_df = pd.DataFrame(value_counts_no_stopwords)\n",
    "\n",
    "final_df['rank'] = final_df['count'].rank(ascending=False)\n",
    "final_df.head(10)"
   ]
  },
  {
   "cell_type": "code",
   "execution_count": 27,
   "id": "e34c4481",
   "metadata": {},
   "outputs": [],
   "source": [
    "final_df.to_csv(\"word_rankings.csv\", index=True)"
   ]
  },
  {
   "cell_type": "code",
   "execution_count": 28,
   "id": "65dc9fee",
   "metadata": {},
   "outputs": [],
   "source": [
    "client.close()"
   ]
  },
  {
   "cell_type": "code",
   "execution_count": null,
   "id": "4c8379ff",
   "metadata": {},
   "outputs": [],
   "source": []
  }
 ],
 "metadata": {
  "hide_input": false,
  "kernelspec": {
   "display_name": "Python 3 (ipykernel)",
   "language": "python",
   "name": "python3"
  },
  "language_info": {
   "codemirror_mode": {
    "name": "ipython",
    "version": 3
   },
   "file_extension": ".py",
   "mimetype": "text/x-python",
   "name": "python",
   "nbconvert_exporter": "python",
   "pygments_lexer": "ipython3",
   "version": "3.9.10"
  },
  "toc": {
   "base_numbering": 1,
   "nav_menu": {},
   "number_sections": true,
   "sideBar": true,
   "skip_h1_title": false,
   "title_cell": "Table of Contents",
   "title_sidebar": "Contents",
   "toc_cell": false,
   "toc_position": {},
   "toc_section_display": true,
   "toc_window_display": false
  }
 },
 "nbformat": 4,
 "nbformat_minor": 5
}
