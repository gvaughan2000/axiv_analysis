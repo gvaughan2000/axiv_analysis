{
 "cells": [
  {
   "cell_type": "markdown",
   "id": "d6b4958d",
   "metadata": {},
   "source": [
    "Based on the ranking of words, pick the top ten and recommend a journal for each word. "
   ]
  },
  {
   "cell_type": "code",
   "execution_count": 1,
   "id": "0561a637",
   "metadata": {},
   "outputs": [],
   "source": [
    "import pandas as pd\n",
    "import dask.dataframe as dd\n",
    "from dask.distributed import Client, LocalCluster\n",
    "from util import clean_journal_ref"
   ]
  },
  {
   "cell_type": "code",
   "execution_count": 2,
   "id": "8a9058db",
   "metadata": {},
   "outputs": [
    {
     "data": {
      "text/plain": [
       "0      model\n",
       "1    quantum\n",
       "2     system\n",
       "3     theori\n",
       "4      field\n",
       "5     effect\n",
       "6      gener\n",
       "7      dynam\n",
       "8        use\n",
       "9    network\n",
       "Name: title, dtype: object"
      ]
     },
     "execution_count": 2,
     "metadata": {},
     "output_type": "execute_result"
    }
   ],
   "source": [
    "word_rankings = pd.read_csv(\"word_rankings.csv\")\n",
    "top_10_words = word_rankings['title'][:10]\n",
    "top_10_words"
   ]
  },
  {
   "cell_type": "code",
   "execution_count": 3,
   "id": "f8916781",
   "metadata": {},
   "outputs": [
    {
     "name": "stderr",
     "output_type": "stream",
     "text": [
      "2023-05-19 12:44:38,354 - distributed.nanny - WARNING - Worker process still alive after 3.199997711181641 seconds, killing\n",
      "2023-05-19 12:44:38,354 - distributed.nanny - WARNING - Worker process still alive after 3.1999980163574224 seconds, killing\n",
      "2023-05-19 12:44:38,354 - distributed.nanny - WARNING - Worker process still alive after 3.1999981689453127 seconds, killing\n",
      "2023-05-19 12:44:38,354 - distributed.nanny - WARNING - Worker process still alive after 3.1999983215332035 seconds, killing\n",
      "2023-05-19 12:44:38,354 - distributed.nanny - WARNING - Worker process still alive after 3.199998474121094 seconds, killing\n",
      "2023-05-19 12:44:38,354 - distributed.nanny - WARNING - Worker process still alive after 3.1999987792968754 seconds, killing\n",
      "2023-05-19 12:44:38,370 - distributed.nanny - WARNING - Worker process still alive after 3.1999987792968754 seconds, killing\n"
     ]
    },
    {
     "data": {
      "text/html": [
       "<div>\n",
       "<style scoped>\n",
       "    .dataframe tbody tr th:only-of-type {\n",
       "        vertical-align: middle;\n",
       "    }\n",
       "\n",
       "    .dataframe tbody tr th {\n",
       "        vertical-align: top;\n",
       "    }\n",
       "\n",
       "    .dataframe thead th {\n",
       "        text-align: right;\n",
       "    }\n",
       "</style>\n",
       "<table border=\"1\" class=\"dataframe\">\n",
       "  <thead>\n",
       "    <tr style=\"text-align: right;\">\n",
       "      <th></th>\n",
       "      <th>id</th>\n",
       "      <th>title</th>\n",
       "      <th>comments</th>\n",
       "      <th>journal-ref_original</th>\n",
       "      <th>categories_original</th>\n",
       "      <th>journal-ref_cleaned</th>\n",
       "      <th>first_category</th>\n",
       "      <th>category</th>\n",
       "      <th>sub_category</th>\n",
       "      <th>feild</th>\n",
       "    </tr>\n",
       "  </thead>\n",
       "  <tbody>\n",
       "    <tr>\n",
       "      <th>0</th>\n",
       "      <td>0704.0001</td>\n",
       "      <td>calculation of prompt diphoton production cros...</td>\n",
       "      <td>37 pages, 15 figures; published version</td>\n",
       "      <td>phys.rev.d76:013009,2007</td>\n",
       "      <td>hep-ph</td>\n",
       "      <td>physics.review</td>\n",
       "      <td>hep-ph</td>\n",
       "      <td>hep-ph</td>\n",
       "      <td>NaN</td>\n",
       "      <td>physics</td>\n",
       "    </tr>\n",
       "    <tr>\n",
       "      <th>1</th>\n",
       "      <td>0704.0002</td>\n",
       "      <td>sparsity-certifying graph decompositions</td>\n",
       "      <td>to appear in graphs and combinatorics</td>\n",
       "      <td>NaN</td>\n",
       "      <td>math.co cs.cg</td>\n",
       "      <td>NaN</td>\n",
       "      <td>math.co</td>\n",
       "      <td>math</td>\n",
       "      <td>co</td>\n",
       "      <td>math</td>\n",
       "    </tr>\n",
       "    <tr>\n",
       "      <th>2</th>\n",
       "      <td>0704.0003</td>\n",
       "      <td>the evolution of the earth-moon system based o...</td>\n",
       "      <td>23 pages, 3 figures</td>\n",
       "      <td>NaN</td>\n",
       "      <td>physics.gen-ph</td>\n",
       "      <td>NaN</td>\n",
       "      <td>physics.gen-ph</td>\n",
       "      <td>physics</td>\n",
       "      <td>gen-ph</td>\n",
       "      <td>physics</td>\n",
       "    </tr>\n",
       "    <tr>\n",
       "      <th>3</th>\n",
       "      <td>0704.0004</td>\n",
       "      <td>a determinant of stirling cycle numbers counts...</td>\n",
       "      <td>11 pages</td>\n",
       "      <td>NaN</td>\n",
       "      <td>math.co</td>\n",
       "      <td>NaN</td>\n",
       "      <td>math.co</td>\n",
       "      <td>math</td>\n",
       "      <td>co</td>\n",
       "      <td>math</td>\n",
       "    </tr>\n",
       "    <tr>\n",
       "      <th>4</th>\n",
       "      <td>0704.0006</td>\n",
       "      <td>bosonic characters of atomic cooper pairs acro...</td>\n",
       "      <td>6 pages, 4 figures, accepted by pra</td>\n",
       "      <td>NaN</td>\n",
       "      <td>cond-mat.mes-hall</td>\n",
       "      <td>NaN</td>\n",
       "      <td>cond-mat.mes-hall</td>\n",
       "      <td>cond-mat</td>\n",
       "      <td>mes-hall</td>\n",
       "      <td>physics</td>\n",
       "    </tr>\n",
       "  </tbody>\n",
       "</table>\n",
       "</div>"
      ],
      "text/plain": [
       "          id                                              title   \n",
       "0  0704.0001  calculation of prompt diphoton production cros...  \\\n",
       "1  0704.0002           sparsity-certifying graph decompositions   \n",
       "2  0704.0003  the evolution of the earth-moon system based o...   \n",
       "3  0704.0004  a determinant of stirling cycle numbers counts...   \n",
       "4  0704.0006  bosonic characters of atomic cooper pairs acro...   \n",
       "\n",
       "                                  comments      journal-ref_original   \n",
       "0  37 pages, 15 figures; published version  phys.rev.d76:013009,2007  \\\n",
       "1    to appear in graphs and combinatorics                       NaN   \n",
       "2                      23 pages, 3 figures                       NaN   \n",
       "3                                 11 pages                       NaN   \n",
       "4      6 pages, 4 figures, accepted by pra                       NaN   \n",
       "\n",
       "  categories_original journal-ref_cleaned     first_category  category   \n",
       "0              hep-ph      physics.review             hep-ph    hep-ph  \\\n",
       "1       math.co cs.cg                 NaN            math.co      math   \n",
       "2      physics.gen-ph                 NaN     physics.gen-ph   physics   \n",
       "3             math.co                 NaN            math.co      math   \n",
       "4   cond-mat.mes-hall                 NaN  cond-mat.mes-hall  cond-mat   \n",
       "\n",
       "  sub_category    feild  \n",
       "0          NaN  physics  \n",
       "1           co     math  \n",
       "2       gen-ph  physics  \n",
       "3           co     math  \n",
       "4     mes-hall  physics  "
      ]
     },
     "execution_count": 3,
     "metadata": {},
     "output_type": "execute_result"
    }
   ],
   "source": [
    "cluster = LocalCluster() \n",
    "cluster.scale(8) \n",
    "\n",
    "# Sets the number of workers \n",
    "cluster.adapt(minimum=1, maximum=8) \n",
    "\n",
    "# Allows the cluster to auto scale to 10 when tasks are computed \n",
    "client = Client(cluster)\n",
    "\n",
    "defined_dtypes = {'id': str, 'title': str, 'comments':  str, 'journal-ref':  str, 'journal-ref_cleaned':  str,\n",
    "                  'categories':  str, 'categories_original':str, \"journal-ref_original\":str,\n",
    "                  'feild':str, 'category':str, 'sub_category':str}\n",
    "\n",
    "df = dd.read_csv('without_covid_cleaned.csv', blocksize=\"256 MiB\", dtype=defined_dtypes)\n",
    "df.head(5)"
   ]
  },
  {
   "cell_type": "code",
   "execution_count": 5,
   "id": "55702534",
   "metadata": {},
   "outputs": [
    {
     "name": "stderr",
     "output_type": "stream",
     "text": [
      "IOPub data rate exceeded.\n",
      "The notebook server will temporarily stop sending output\n",
      "to the client in order to avoid crashing it.\n",
      "To change this limit, set the config variable\n",
      "`--NotebookApp.iopub_data_rate_limit`.\n",
      "\n",
      "Current values:\n",
      "NotebookApp.iopub_data_rate_limit=1000000.0 (bytes/sec)\n",
      "NotebookApp.rate_limit_window=3.0 (secs)\n",
      "\n"
     ]
    }
   ],
   "source": [
    "journal_totals = df['journal-ref_cleaned'].value_counts().compute()\n",
    "journal_totals_dict = journal_totals.to_dict()\n",
    "print(journal_totals_dict)"
   ]
  },
  {
   "cell_type": "code",
   "execution_count": 6,
   "id": "cea9684d",
   "metadata": {},
   "outputs": [],
   "source": [
    "import nltk\n",
    "from nltk.stem import PorterStemmer\n",
    "\n",
    "stemmer = PorterStemmer()\n",
    "\n",
    "def lemmatize_sentence(sentence):\n",
    "    # initial lemmatiser\n",
    "    stemmer = PorterStemmer()\n",
    "    # Tokenize the sentence into individual words and apply lemmatiser\n",
    "    lemmatized_words = [stemmer.stem(word) for word in nltk.word_tokenize(sentence)]\n",
    "    # return words reconnected as a sentence\n",
    "    return ' '.join(lemmatized_words)\n",
    "\n",
    "# First we have to apply the same lemmatisation to the titles as we did to the key words\n",
    "titles_lemmatised = df['title'].apply(lemmatize_sentence, meta=('title', str)).compute()"
   ]
  },
  {
   "cell_type": "code",
   "execution_count": 11,
   "id": "7cce6290",
   "metadata": {},
   "outputs": [],
   "source": [
    "def reccommend_journals(keyword):    \n",
    "    #select only rows where title contains keyword\n",
    "    keyword_df = df[titles_lemmatised.str.contains(keyword)]\n",
    "\n",
    "    #group by journal-ref\n",
    "    journal_frequency = keyword_df.groupby('journal-ref_cleaned').size()\n",
    "\n",
    "    return journal_frequency"
   ]
  },
  {
   "cell_type": "code",
   "execution_count": 12,
   "id": "61aeccb3",
   "metadata": {},
   "outputs": [
    {
     "name": "stderr",
     "output_type": "stream",
     "text": [
      "C:\\Users\\gv9\\AppData\\Local\\pypoetry\\Cache\\virtualenvs\\portfolio-oVyD_NMl-py3.9\\lib\\site-packages\\dask\\dataframe\\core.py:4829: UserWarning: Boolean Series key will be reindexed to match DataFrame index.\n",
      "  meta = self._meta[_extract_meta(key)]\n"
     ]
    },
    {
     "name": "stdout",
     "output_type": "stream",
     "text": [
      "model done :)\n"
     ]
    },
    {
     "name": "stderr",
     "output_type": "stream",
     "text": [
      "C:\\Users\\gv9\\AppData\\Local\\pypoetry\\Cache\\virtualenvs\\portfolio-oVyD_NMl-py3.9\\lib\\site-packages\\dask\\dataframe\\core.py:4829: UserWarning: Boolean Series key will be reindexed to match DataFrame index.\n",
      "  meta = self._meta[_extract_meta(key)]\n"
     ]
    },
    {
     "name": "stdout",
     "output_type": "stream",
     "text": [
      "quantum done :)\n"
     ]
    },
    {
     "name": "stderr",
     "output_type": "stream",
     "text": [
      "C:\\Users\\gv9\\AppData\\Local\\pypoetry\\Cache\\virtualenvs\\portfolio-oVyD_NMl-py3.9\\lib\\site-packages\\dask\\dataframe\\core.py:4829: UserWarning: Boolean Series key will be reindexed to match DataFrame index.\n",
      "  meta = self._meta[_extract_meta(key)]\n"
     ]
    },
    {
     "name": "stdout",
     "output_type": "stream",
     "text": [
      "system done :)\n"
     ]
    },
    {
     "name": "stderr",
     "output_type": "stream",
     "text": [
      "C:\\Users\\gv9\\AppData\\Local\\pypoetry\\Cache\\virtualenvs\\portfolio-oVyD_NMl-py3.9\\lib\\site-packages\\dask\\dataframe\\core.py:4829: UserWarning: Boolean Series key will be reindexed to match DataFrame index.\n",
      "  meta = self._meta[_extract_meta(key)]\n"
     ]
    },
    {
     "name": "stdout",
     "output_type": "stream",
     "text": [
      "theori done :)\n"
     ]
    },
    {
     "name": "stderr",
     "output_type": "stream",
     "text": [
      "C:\\Users\\gv9\\AppData\\Local\\pypoetry\\Cache\\virtualenvs\\portfolio-oVyD_NMl-py3.9\\lib\\site-packages\\dask\\dataframe\\core.py:4829: UserWarning: Boolean Series key will be reindexed to match DataFrame index.\n",
      "  meta = self._meta[_extract_meta(key)]\n"
     ]
    },
    {
     "name": "stdout",
     "output_type": "stream",
     "text": [
      "field done :)\n"
     ]
    },
    {
     "name": "stderr",
     "output_type": "stream",
     "text": [
      "C:\\Users\\gv9\\AppData\\Local\\pypoetry\\Cache\\virtualenvs\\portfolio-oVyD_NMl-py3.9\\lib\\site-packages\\dask\\dataframe\\core.py:4829: UserWarning: Boolean Series key will be reindexed to match DataFrame index.\n",
      "  meta = self._meta[_extract_meta(key)]\n"
     ]
    },
    {
     "name": "stdout",
     "output_type": "stream",
     "text": [
      "effect done :)\n"
     ]
    },
    {
     "name": "stderr",
     "output_type": "stream",
     "text": [
      "C:\\Users\\gv9\\AppData\\Local\\pypoetry\\Cache\\virtualenvs\\portfolio-oVyD_NMl-py3.9\\lib\\site-packages\\dask\\dataframe\\core.py:4829: UserWarning: Boolean Series key will be reindexed to match DataFrame index.\n",
      "  meta = self._meta[_extract_meta(key)]\n"
     ]
    },
    {
     "name": "stdout",
     "output_type": "stream",
     "text": [
      "gener done :)\n"
     ]
    },
    {
     "name": "stderr",
     "output_type": "stream",
     "text": [
      "C:\\Users\\gv9\\AppData\\Local\\pypoetry\\Cache\\virtualenvs\\portfolio-oVyD_NMl-py3.9\\lib\\site-packages\\dask\\dataframe\\core.py:4829: UserWarning: Boolean Series key will be reindexed to match DataFrame index.\n",
      "  meta = self._meta[_extract_meta(key)]\n"
     ]
    },
    {
     "name": "stdout",
     "output_type": "stream",
     "text": [
      "dynam done :)\n"
     ]
    },
    {
     "name": "stderr",
     "output_type": "stream",
     "text": [
      "C:\\Users\\gv9\\AppData\\Local\\pypoetry\\Cache\\virtualenvs\\portfolio-oVyD_NMl-py3.9\\lib\\site-packages\\dask\\dataframe\\core.py:4829: UserWarning: Boolean Series key will be reindexed to match DataFrame index.\n",
      "  meta = self._meta[_extract_meta(key)]\n"
     ]
    },
    {
     "name": "stdout",
     "output_type": "stream",
     "text": [
      "use done :)\n"
     ]
    },
    {
     "name": "stderr",
     "output_type": "stream",
     "text": [
      "C:\\Users\\gv9\\AppData\\Local\\pypoetry\\Cache\\virtualenvs\\portfolio-oVyD_NMl-py3.9\\lib\\site-packages\\dask\\dataframe\\core.py:4829: UserWarning: Boolean Series key will be reindexed to match DataFrame index.\n",
      "  meta = self._meta[_extract_meta(key)]\n"
     ]
    },
    {
     "name": "stdout",
     "output_type": "stream",
     "text": [
      "network done :)\n"
     ]
    }
   ],
   "source": [
    "writer = pd.ExcelWriter('journal_reccomendations.xlsx')\n",
    "\n",
    "for keyword in top_10_words:\n",
    "    # apply reccommend_journals to return the no. articles containing the keyword for each journal-ref\n",
    "    top_journals = reccommend_journals(keyword).compute()\n",
    "\n",
    "    # Create an empty dataframe to populate\n",
    "    top_journals_df = pd.DataFrame({'top_journals':top_journals.index, 'count':top_journals.values})\n",
    "\n",
    "    # create a total column for the number of articles containing the keyword\n",
    "    top_journals_df['total']= top_journals_df['top_journals'].map(journal_totals_dict)\n",
    "    \n",
    "    # create a percentage column that divides total by the total no. articles in that journal-ref\n",
    "    top_journals_df['perc']= (top_journals_df['count']/top_journals_df['total'])*100\n",
    "\n",
    "    # only return journals with more than 100 articles.\n",
    "    valid_journals = top_journals_df[top_journals_df['total']>=100]\n",
    "    \n",
    "    # save the resulting datafram to a sheet with the keyword as the sheetname\n",
    "    valid_journals.to_excel(writer, sheet_name=keyword, index=False)\n",
    "    \n",
    "    print(keyword, 'done :)')"
   ]
  },
  {
   "cell_type": "code",
   "execution_count": null,
   "id": "bbd54bb4",
   "metadata": {},
   "outputs": [],
   "source": [
    "#client.close()"
   ]
  },
  {
   "cell_type": "code",
   "execution_count": 13,
   "id": "1746553d",
   "metadata": {},
   "outputs": [],
   "source": [
    "writer.close()"
   ]
  },
  {
   "cell_type": "code",
   "execution_count": null,
   "id": "7b8962e6",
   "metadata": {},
   "outputs": [],
   "source": []
  }
 ],
 "metadata": {
  "hide_input": false,
  "kernelspec": {
   "display_name": "Python 3 (ipykernel)",
   "language": "python",
   "name": "python3"
  },
  "language_info": {
   "codemirror_mode": {
    "name": "ipython",
    "version": 3
   },
   "file_extension": ".py",
   "mimetype": "text/x-python",
   "name": "python",
   "nbconvert_exporter": "python",
   "pygments_lexer": "ipython3",
   "version": "3.9.10"
  },
  "toc": {
   "base_numbering": 1,
   "nav_menu": {},
   "number_sections": true,
   "sideBar": true,
   "skip_h1_title": false,
   "title_cell": "Table of Contents",
   "title_sidebar": "Contents",
   "toc_cell": false,
   "toc_position": {
    "height": "calc(100% - 180px)",
    "left": "10px",
    "top": "150px",
    "width": "173.225px"
   },
   "toc_section_display": true,
   "toc_window_display": false
  }
 },
 "nbformat": 4,
 "nbformat_minor": 5
}
